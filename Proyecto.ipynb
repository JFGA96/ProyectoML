{
  "cells": [
    {
      "cell_type": "markdown",
      "metadata": {
        "id": "FIavEfu1JBnb"
      },
      "source": [
        "##**Para traer el CSV se hace directamente con una cuenta de Google**"
      ]
    },
    {
      "cell_type": "code",
      "execution_count": 1,
      "metadata": {
        "id": "By_YShxpIU-y",
        "colab": {
          "base_uri": "https://localhost:8080/"
        },
        "outputId": "74183e77-67e9-4ba5-ad0a-d0e781120ee7"
      },
      "outputs": [
        {
          "name": "stdout",
          "output_type": "stream",
          "text": [
            "\n",
            "Go to the following link in your browser:\n",
            "\n",
            "    https://accounts.google.com/o/oauth2/auth?response_type=code&client_id=32555940559.apps.googleusercontent.com&redirect_uri=urn%3Aietf%3Awg%3Aoauth%3A2.0%3Aoob&scope=openid+https%3A%2F%2Fwww.googleapis.com%2Fauth%2Fuserinfo.email+https%3A%2F%2Fwww.googleapis.com%2Fauth%2Fcloud-platform+https%3A%2F%2Fwww.googleapis.com%2Fauth%2Fappengine.admin+https%3A%2F%2Fwww.googleapis.com%2Fauth%2Fcompute+https%3A%2F%2Fwww.googleapis.com%2Fauth%2Faccounts.reauth+https%3A%2F%2Fwww.googleapis.com%2Fauth%2Fdrive&state=kvopk9uEsPiaKMlrgtVJGNUxo5bpzj&prompt=consent&access_type=offline&code_challenge=KdwLtCJRz33oDTNIMurFNhhpBrYyhPLVs0raFnIya1M&code_challenge_method=S256\n",
            "\n",
            "Enter verification code: 4/1AX4XfWg8vmAmVzHb5kzUFod85aSkWe8eiuEuWmnIEK8AqyD7ayMeWAjXVeU\n"
          ]
        }
      ],
      "source": [
        "!pip install -U -q PyDrive \n",
        "  \n",
        "from pydrive.auth import GoogleAuth \n",
        "from pydrive.drive import GoogleDrive \n",
        "from google.colab import auth \n",
        "from oauth2client.client import GoogleCredentials \n",
        "  \n",
        "  \n",
        "auth.authenticate_user() \n",
        "gauth = GoogleAuth() \n",
        "gauth.credentials = GoogleCredentials.get_application_default() \n",
        "drive = GoogleDrive(gauth)"
      ]
    },
    {
      "cell_type": "markdown",
      "metadata": {
        "id": "YQelDs1yJUSn"
      },
      "source": [
        "## **Se da el link del cual se quiere traer el csv y a traves de pandas se obtiene el dataframe**"
      ]
    },
    {
      "cell_type": "code",
      "execution_count": null,
      "metadata": {
        "id": "-h3VXufM6vB0"
      },
      "outputs": [],
      "source": [
        "link = 'https://drive.google.com/file/d/1uR5s0ol8E1nR_qAMu5iGzwNloRZip8xK/view?usp=s'\n",
        "  \n",
        "import pandas as pd \n",
        "  \n",
        "id = link.split(\"/\")[-2] \n",
        "  \n",
        "downloaded = drive.CreateFile({'id':id})  \n",
        "downloaded.GetContentFile('Reviews.csv')   \n",
        "\n"
      ]
    },
    {
      "cell_type": "code",
      "execution_count": null,
      "metadata": {
        "colab": {
          "base_uri": "https://localhost:8080/",
          "height": 483
        },
        "id": "THZNAjBQLeHL",
        "outputId": "5640f56a-b007-4dbd-9042-a61d9761c8cb"
      },
      "outputs": [
        {
          "data": {
            "text/html": [
              "\n",
              "  <div id=\"df-dfebd936-eeee-414f-84d3-ee5125ac269b\">\n",
              "    <div class=\"colab-df-container\">\n",
              "      <div>\n",
              "<style scoped>\n",
              "    .dataframe tbody tr th:only-of-type {\n",
              "        vertical-align: middle;\n",
              "    }\n",
              "\n",
              "    .dataframe tbody tr th {\n",
              "        vertical-align: top;\n",
              "    }\n",
              "\n",
              "    .dataframe thead th {\n",
              "        text-align: right;\n",
              "    }\n",
              "</style>\n",
              "<table border=\"1\" class=\"dataframe\">\n",
              "  <thead>\n",
              "    <tr style=\"text-align: right;\">\n",
              "      <th></th>\n",
              "      <th>Id</th>\n",
              "      <th>ProductId</th>\n",
              "      <th>UserId</th>\n",
              "      <th>ProfileName</th>\n",
              "      <th>HelpfulnessNumerator</th>\n",
              "      <th>HelpfulnessDenominator</th>\n",
              "      <th>Score</th>\n",
              "      <th>Time</th>\n",
              "      <th>Summary</th>\n",
              "      <th>Text</th>\n",
              "    </tr>\n",
              "  </thead>\n",
              "  <tbody>\n",
              "    <tr>\n",
              "      <th>0</th>\n",
              "      <td>1</td>\n",
              "      <td>B001E4KFG0</td>\n",
              "      <td>A3SGXH7AUHU8GW</td>\n",
              "      <td>delmartian</td>\n",
              "      <td>1</td>\n",
              "      <td>1</td>\n",
              "      <td>5</td>\n",
              "      <td>1303862400</td>\n",
              "      <td>Good Quality Dog Food</td>\n",
              "      <td>I have bought several of the Vitality canned d...</td>\n",
              "    </tr>\n",
              "    <tr>\n",
              "      <th>1</th>\n",
              "      <td>2</td>\n",
              "      <td>B00813GRG4</td>\n",
              "      <td>A1D87F6ZCVE5NK</td>\n",
              "      <td>dll pa</td>\n",
              "      <td>0</td>\n",
              "      <td>0</td>\n",
              "      <td>1</td>\n",
              "      <td>1346976000</td>\n",
              "      <td>Not as Advertised</td>\n",
              "      <td>Product arrived labeled as Jumbo Salted Peanut...</td>\n",
              "    </tr>\n",
              "    <tr>\n",
              "      <th>2</th>\n",
              "      <td>3</td>\n",
              "      <td>B000LQOCH0</td>\n",
              "      <td>ABXLMWJIXXAIN</td>\n",
              "      <td>Natalia Corres \"Natalia Corres\"</td>\n",
              "      <td>1</td>\n",
              "      <td>1</td>\n",
              "      <td>4</td>\n",
              "      <td>1219017600</td>\n",
              "      <td>\"Delight\" says it all</td>\n",
              "      <td>This is a confection that has been around a fe...</td>\n",
              "    </tr>\n",
              "    <tr>\n",
              "      <th>3</th>\n",
              "      <td>4</td>\n",
              "      <td>B000UA0QIQ</td>\n",
              "      <td>A395BORC6FGVXV</td>\n",
              "      <td>Karl</td>\n",
              "      <td>3</td>\n",
              "      <td>3</td>\n",
              "      <td>2</td>\n",
              "      <td>1307923200</td>\n",
              "      <td>Cough Medicine</td>\n",
              "      <td>If you are looking for the secret ingredient i...</td>\n",
              "    </tr>\n",
              "    <tr>\n",
              "      <th>4</th>\n",
              "      <td>5</td>\n",
              "      <td>B006K2ZZ7K</td>\n",
              "      <td>A1UQRSCLF8GW1T</td>\n",
              "      <td>Michael D. Bigham \"M. Wassir\"</td>\n",
              "      <td>0</td>\n",
              "      <td>0</td>\n",
              "      <td>5</td>\n",
              "      <td>1350777600</td>\n",
              "      <td>Great taffy</td>\n",
              "      <td>Great taffy at a great price.  There was a wid...</td>\n",
              "    </tr>\n",
              "    <tr>\n",
              "      <th>5</th>\n",
              "      <td>6</td>\n",
              "      <td>B006K2ZZ7K</td>\n",
              "      <td>ADT0SRK1MGOEU</td>\n",
              "      <td>Twoapennything</td>\n",
              "      <td>0</td>\n",
              "      <td>0</td>\n",
              "      <td>4</td>\n",
              "      <td>1342051200</td>\n",
              "      <td>Nice Taffy</td>\n",
              "      <td>I got a wild hair for taffy and ordered this f...</td>\n",
              "    </tr>\n",
              "    <tr>\n",
              "      <th>6</th>\n",
              "      <td>7</td>\n",
              "      <td>B006K2ZZ7K</td>\n",
              "      <td>A1SP2KVKFXXRU1</td>\n",
              "      <td>David C. Sullivan</td>\n",
              "      <td>0</td>\n",
              "      <td>0</td>\n",
              "      <td>5</td>\n",
              "      <td>1340150400</td>\n",
              "      <td>Great!  Just as good as the expensive brands!</td>\n",
              "      <td>This saltwater taffy had great flavors and was...</td>\n",
              "    </tr>\n",
              "    <tr>\n",
              "      <th>7</th>\n",
              "      <td>8</td>\n",
              "      <td>B006K2ZZ7K</td>\n",
              "      <td>A3JRGQVEQN31IQ</td>\n",
              "      <td>Pamela G. Williams</td>\n",
              "      <td>0</td>\n",
              "      <td>0</td>\n",
              "      <td>5</td>\n",
              "      <td>1336003200</td>\n",
              "      <td>Wonderful, tasty taffy</td>\n",
              "      <td>This taffy is so good.  It is very soft and ch...</td>\n",
              "    </tr>\n",
              "  </tbody>\n",
              "</table>\n",
              "</div>\n",
              "      <button class=\"colab-df-convert\" onclick=\"convertToInteractive('df-dfebd936-eeee-414f-84d3-ee5125ac269b')\"\n",
              "              title=\"Convert this dataframe to an interactive table.\"\n",
              "              style=\"display:none;\">\n",
              "        \n",
              "  <svg xmlns=\"http://www.w3.org/2000/svg\" height=\"24px\"viewBox=\"0 0 24 24\"\n",
              "       width=\"24px\">\n",
              "    <path d=\"M0 0h24v24H0V0z\" fill=\"none\"/>\n",
              "    <path d=\"M18.56 5.44l.94 2.06.94-2.06 2.06-.94-2.06-.94-.94-2.06-.94 2.06-2.06.94zm-11 1L8.5 8.5l.94-2.06 2.06-.94-2.06-.94L8.5 2.5l-.94 2.06-2.06.94zm10 10l.94 2.06.94-2.06 2.06-.94-2.06-.94-.94-2.06-.94 2.06-2.06.94z\"/><path d=\"M17.41 7.96l-1.37-1.37c-.4-.4-.92-.59-1.43-.59-.52 0-1.04.2-1.43.59L10.3 9.45l-7.72 7.72c-.78.78-.78 2.05 0 2.83L4 21.41c.39.39.9.59 1.41.59.51 0 1.02-.2 1.41-.59l7.78-7.78 2.81-2.81c.8-.78.8-2.07 0-2.86zM5.41 20L4 18.59l7.72-7.72 1.47 1.35L5.41 20z\"/>\n",
              "  </svg>\n",
              "      </button>\n",
              "      \n",
              "  <style>\n",
              "    .colab-df-container {\n",
              "      display:flex;\n",
              "      flex-wrap:wrap;\n",
              "      gap: 12px;\n",
              "    }\n",
              "\n",
              "    .colab-df-convert {\n",
              "      background-color: #E8F0FE;\n",
              "      border: none;\n",
              "      border-radius: 50%;\n",
              "      cursor: pointer;\n",
              "      display: none;\n",
              "      fill: #1967D2;\n",
              "      height: 32px;\n",
              "      padding: 0 0 0 0;\n",
              "      width: 32px;\n",
              "    }\n",
              "\n",
              "    .colab-df-convert:hover {\n",
              "      background-color: #E2EBFA;\n",
              "      box-shadow: 0px 1px 2px rgba(60, 64, 67, 0.3), 0px 1px 3px 1px rgba(60, 64, 67, 0.15);\n",
              "      fill: #174EA6;\n",
              "    }\n",
              "\n",
              "    [theme=dark] .colab-df-convert {\n",
              "      background-color: #3B4455;\n",
              "      fill: #D2E3FC;\n",
              "    }\n",
              "\n",
              "    [theme=dark] .colab-df-convert:hover {\n",
              "      background-color: #434B5C;\n",
              "      box-shadow: 0px 1px 3px 1px rgba(0, 0, 0, 0.15);\n",
              "      filter: drop-shadow(0px 1px 2px rgba(0, 0, 0, 0.3));\n",
              "      fill: #FFFFFF;\n",
              "    }\n",
              "  </style>\n",
              "\n",
              "      <script>\n",
              "        const buttonEl =\n",
              "          document.querySelector('#df-dfebd936-eeee-414f-84d3-ee5125ac269b button.colab-df-convert');\n",
              "        buttonEl.style.display =\n",
              "          google.colab.kernel.accessAllowed ? 'block' : 'none';\n",
              "\n",
              "        async function convertToInteractive(key) {\n",
              "          const element = document.querySelector('#df-dfebd936-eeee-414f-84d3-ee5125ac269b');\n",
              "          const dataTable =\n",
              "            await google.colab.kernel.invokeFunction('convertToInteractive',\n",
              "                                                     [key], {});\n",
              "          if (!dataTable) return;\n",
              "\n",
              "          const docLinkHtml = 'Like what you see? Visit the ' +\n",
              "            '<a target=\"_blank\" href=https://colab.research.google.com/notebooks/data_table.ipynb>data table notebook</a>'\n",
              "            + ' to learn more about interactive tables.';\n",
              "          element.innerHTML = '';\n",
              "          dataTable['output_type'] = 'display_data';\n",
              "          await google.colab.output.renderOutput(dataTable, element);\n",
              "          const docLink = document.createElement('div');\n",
              "          docLink.innerHTML = docLinkHtml;\n",
              "          element.appendChild(docLink);\n",
              "        }\n",
              "      </script>\n",
              "    </div>\n",
              "  </div>\n",
              "  "
            ],
            "text/plain": [
              "   Id   ProductId          UserId                      ProfileName  \\\n",
              "0   1  B001E4KFG0  A3SGXH7AUHU8GW                       delmartian   \n",
              "1   2  B00813GRG4  A1D87F6ZCVE5NK                           dll pa   \n",
              "2   3  B000LQOCH0   ABXLMWJIXXAIN  Natalia Corres \"Natalia Corres\"   \n",
              "3   4  B000UA0QIQ  A395BORC6FGVXV                             Karl   \n",
              "4   5  B006K2ZZ7K  A1UQRSCLF8GW1T    Michael D. Bigham \"M. Wassir\"   \n",
              "5   6  B006K2ZZ7K   ADT0SRK1MGOEU                   Twoapennything   \n",
              "6   7  B006K2ZZ7K  A1SP2KVKFXXRU1                David C. Sullivan   \n",
              "7   8  B006K2ZZ7K  A3JRGQVEQN31IQ               Pamela G. Williams   \n",
              "\n",
              "   HelpfulnessNumerator  HelpfulnessDenominator  Score        Time  \\\n",
              "0                     1                       1      5  1303862400   \n",
              "1                     0                       0      1  1346976000   \n",
              "2                     1                       1      4  1219017600   \n",
              "3                     3                       3      2  1307923200   \n",
              "4                     0                       0      5  1350777600   \n",
              "5                     0                       0      4  1342051200   \n",
              "6                     0                       0      5  1340150400   \n",
              "7                     0                       0      5  1336003200   \n",
              "\n",
              "                                         Summary  \\\n",
              "0                          Good Quality Dog Food   \n",
              "1                              Not as Advertised   \n",
              "2                          \"Delight\" says it all   \n",
              "3                                 Cough Medicine   \n",
              "4                                    Great taffy   \n",
              "5                                     Nice Taffy   \n",
              "6  Great!  Just as good as the expensive brands!   \n",
              "7                         Wonderful, tasty taffy   \n",
              "\n",
              "                                                Text  \n",
              "0  I have bought several of the Vitality canned d...  \n",
              "1  Product arrived labeled as Jumbo Salted Peanut...  \n",
              "2  This is a confection that has been around a fe...  \n",
              "3  If you are looking for the secret ingredient i...  \n",
              "4  Great taffy at a great price.  There was a wid...  \n",
              "5  I got a wild hair for taffy and ordered this f...  \n",
              "6  This saltwater taffy had great flavors and was...  \n",
              "7  This taffy is so good.  It is very soft and ch...  "
            ]
          },
          "execution_count": 3,
          "metadata": {},
          "output_type": "execute_result"
        }
      ],
      "source": [
        "  \n",
        "df = pd.read_csv('Reviews.csv',sep=',') \n",
        "df.head(8)"
      ]
    },
    {
      "cell_type": "code",
      "execution_count": null,
      "metadata": {
        "colab": {
          "base_uri": "https://localhost:8080/"
        },
        "id": "X05KktKkJqhC",
        "outputId": "6edc0604-bd8a-4337-82e3-a4f26b6b9a38"
      },
      "outputs": [
        {
          "name": "stdout",
          "output_type": "stream",
          "text": [
            "(568454, 10)\n"
          ]
        }
      ],
      "source": [
        "cantDatos=df.shape\n",
        "print(cantDatos)"
      ]
    },
    {
      "cell_type": "code",
      "execution_count": null,
      "metadata": {
        "colab": {
          "base_uri": "https://localhost:8080/"
        },
        "id": "0-ObMU1SISlO",
        "outputId": "3119df12-3a0e-4945-f46c-eee933f62ca2"
      },
      "outputs": [
        {
          "name": "stdout",
          "output_type": "stream",
          "text": [
            "<class 'pandas.core.frame.DataFrame'>\n",
            "RangeIndex: 568454 entries, 0 to 568453\n",
            "Data columns (total 10 columns):\n",
            " #   Column                  Non-Null Count   Dtype \n",
            "---  ------                  --------------   ----- \n",
            " 0   Id                      568454 non-null  int64 \n",
            " 1   ProductId               568454 non-null  object\n",
            " 2   UserId                  568454 non-null  object\n",
            " 3   ProfileName             568438 non-null  object\n",
            " 4   HelpfulnessNumerator    568454 non-null  int64 \n",
            " 5   HelpfulnessDenominator  568454 non-null  int64 \n",
            " 6   Score                   568454 non-null  int64 \n",
            " 7   Time                    568454 non-null  int64 \n",
            " 8   Summary                 568427 non-null  object\n",
            " 9   Text                    568454 non-null  object\n",
            "dtypes: int64(5), object(5)\n",
            "memory usage: 43.4+ MB\n"
          ]
        }
      ],
      "source": [
        "df.info()"
      ]
    },
    {
      "cell_type": "code",
      "execution_count": null,
      "metadata": {
        "id": "xCan1zv8KhsS"
      },
      "outputs": [],
      "source": [
        "import matplotlib.pyplot as plt\n",
        "import seaborn as sb\n",
        "import numpy as np\n",
        "%matplotlib inline"
      ]
    },
    {
      "cell_type": "markdown",
      "metadata": {
        "id": "vrXV_FncZj_R"
      },
      "source": [
        "# **Verificar las calificaciones dadas para trabajar e identificar la cantidad de comentarios que hay por cada una de las calificaciones**"
      ]
    },
    {
      "cell_type": "code",
      "execution_count": null,
      "metadata": {
        "colab": {
          "base_uri": "https://localhost:8080/"
        },
        "id": "EIbKuECAKono",
        "outputId": "f792df9f-24b4-46ad-b947-75da46457010"
      },
      "outputs": [
        {
          "data": {
            "text/plain": [
              "array([5, 1, 4, 2, 3])"
            ]
          },
          "execution_count": 7,
          "metadata": {},
          "output_type": "execute_result"
        }
      ],
      "source": [
        "df['Score'].unique()"
      ]
    },
    {
      "cell_type": "code",
      "execution_count": null,
      "metadata": {
        "colab": {
          "base_uri": "https://localhost:8080/"
        },
        "id": "-31rlCeUK5VB",
        "outputId": "920b564d-0571-4c1d-8957-591deacbed9c"
      },
      "outputs": [
        {
          "data": {
            "text/plain": [
              "5    363122\n",
              "4     80655\n",
              "1     52268\n",
              "3     42640\n",
              "2     29769\n",
              "Name: Score, dtype: int64"
            ]
          },
          "execution_count": 8,
          "metadata": {},
          "output_type": "execute_result"
        }
      ],
      "source": [
        "df['Score'].value_counts()"
      ]
    },
    {
      "cell_type": "markdown",
      "metadata": {
        "id": "pHHh9S5anRXP"
      },
      "source": [
        "### **Se revisan valores duplicados dentro del dataframe y se mantiene el primero, al ejecutarlo por 'ProductId' se evidencio un cambio en el data frame pero al revisar que muchos de los comentarios estan ligados por el mismo producto se realizo mediante algunas otras variables como: ['UserId','ProductId', 'Profilename', 'Time', 'Score'] Se obtienen los mismos resultados es decir  568454 filas**"
      ]
    },
    {
      "cell_type": "code",
      "execution_count": null,
      "metadata": {
        "id": "84YGxUpmNnQm"
      },
      "outputs": [],
      "source": [
        "df = df.drop_duplicates(df.columns[~df.columns.isin(['UserId','ProductId', 'Profilename', 'Time', 'Score'])],\n",
        "                        keep='first')\n"
      ]
    },
    {
      "cell_type": "markdown",
      "metadata": {
        "id": "X_pLN3gZoIF3"
      },
      "source": [
        "## **Se verifica si existe alguna casilla con datos NaN**\n"
      ]
    },
    {
      "cell_type": "code",
      "execution_count": null,
      "metadata": {
        "colab": {
          "base_uri": "https://localhost:8080/"
        },
        "id": "PHfBDKEqqikR",
        "outputId": "d30a2380-dca8-47ab-fbc9-489fde64f48d"
      },
      "outputs": [
        {
          "name": "stdout",
          "output_type": "stream",
          "text": [
            "           Id  ProductId  UserId  ProfileName  HelpfulnessNumerator  \\\n",
            "0       False      False   False        False                 False   \n",
            "1       False      False   False        False                 False   \n",
            "2       False      False   False        False                 False   \n",
            "3       False      False   False        False                 False   \n",
            "4       False      False   False        False                 False   \n",
            "...       ...        ...     ...          ...                   ...   \n",
            "568449  False      False   False        False                 False   \n",
            "568450  False      False   False        False                 False   \n",
            "568451  False      False   False        False                 False   \n",
            "568452  False      False   False        False                 False   \n",
            "568453  False      False   False        False                 False   \n",
            "\n",
            "        HelpfulnessDenominator  Score   Time  Summary   Text  \n",
            "0                        False  False  False    False  False  \n",
            "1                        False  False  False    False  False  \n",
            "2                        False  False  False    False  False  \n",
            "3                        False  False  False    False  False  \n",
            "4                        False  False  False    False  False  \n",
            "...                        ...    ...    ...      ...    ...  \n",
            "568449                   False  False  False    False  False  \n",
            "568450                   False  False  False    False  False  \n",
            "568451                   False  False  False    False  False  \n",
            "568452                   False  False  False    False  False  \n",
            "568453                   False  False  False    False  False  \n",
            "\n",
            "[568454 rows x 10 columns]\n",
            "NaN Presence:True\n",
            "Total Number of NaN values:43\n"
          ]
        }
      ],
      "source": [
        "df_check=df.isna()\n",
        "\n",
        "check_for_any_nan= df.isna().values.any()\n",
        "# Or\n",
        "check_for_any_nan= df.isna().any().any()\n",
        "total_nan_values = df.isna().sum().sum()\n",
        "print(df_check)\n",
        "print(\"NaN Presence:\"+str(check_for_any_nan))\n",
        "print (\"Total Number of NaN values:\"+str(total_nan_values))"
      ]
    },
    {
      "cell_type": "markdown",
      "metadata": {
        "id": "YGI3vYlEwPHb"
      },
      "source": [
        "## **Se eliminan los valores con casillas nulas. Se encuentran 43 valores y quedan 568411 filas**"
      ]
    },
    {
      "cell_type": "code",
      "execution_count": null,
      "metadata": {
        "colab": {
          "base_uri": "https://localhost:8080/"
        },
        "id": "puNEt5BYr-ik",
        "outputId": "eca6e99e-fab1-40f8-d17b-1b39b75bc4e8"
      },
      "outputs": [
        {
          "name": "stdout",
          "output_type": "stream",
          "text": [
            "568411\n"
          ]
        }
      ],
      "source": [
        "df=df.dropna()\n",
        "print(len(df))"
      ]
    },
    {
      "cell_type": "markdown",
      "metadata": {
        "id": "OQfEbxYJiYFQ"
      },
      "source": [
        "## **Para una mayor relacion al momento de realizar el modelo se deben tomar las muestras de las mismas cantidades**"
      ]
    },
    {
      "cell_type": "code",
      "execution_count": null,
      "metadata": {
        "colab": {
          "base_uri": "https://localhost:8080/",
          "height": 401
        },
        "id": "WCeFvQsniqVy",
        "outputId": "d04160d9-bab8-4e67-fbd2-2b9a2cdbaba1"
      },
      "outputs": [
        {
          "name": "stdout",
          "output_type": "stream",
          "text": [
            "5    363111\n",
            "4     80655\n",
            "1     52264\n",
            "3     42638\n",
            "2     29743\n",
            "Name: Score, dtype: int64\n"
          ]
        },
        {
          "data": {
            "text/plain": [
              "<matplotlib.axes._subplots.AxesSubplot at 0x7f4d5b3acd50>"
            ]
          },
          "execution_count": 12,
          "metadata": {},
          "output_type": "execute_result"
        },
        {
          "data": {
            "image/png": "[encoded data removed]",
            "text/plain": [
              "<Figure size 432x288 with 1 Axes>"
            ]
          },
          "metadata": {},
          "output_type": "display_data"
        }
      ],
      "source": [
        "\n",
        "cuenta = df['Score'].value_counts()\n",
        "minimo = min(cuenta)\n",
        "df1=df[df.Score == 5]\n",
        "df1=df1.sample(minimo)\n",
        "\n",
        "valor4=df[df.Score == 4]\n",
        "valor4=valor4.sample(minimo)\n",
        "\n",
        "valor3=df[df.Score == 3]\n",
        "valor3=valor3.sample(minimo)\n",
        "\n",
        "valor2=df[df.Score == 2]\n",
        "valor2=valor2.sample(minimo)\n",
        "\n",
        "valor1=df[df.Score == 1]\n",
        "valor1=valor1.sample(minimo)\n",
        "\n",
        "df1 = pd.concat([valor1, valor2, valor3, valor4, df1])\n",
        "df_aleatorio=df1.sample(frac=1).reset_index(drop=True)\n",
        "#print(df_aleatorio)\n",
        "#print(df_aleatorio['Score'].value_counts()\n",
        "print(cuenta)\n",
        "sb.countplot(x='Score', data=df)\n"
      ]
    },
    {
      "cell_type": "markdown",
      "metadata": {
        "id": "AbIY0jto2_Qc"
      },
      "source": [
        "###  Al momento de revisar la cantidad de datos con Score '2' (que es la cantidad minima de datos) se encuentra que son 29769 filas, este dato es importante ya que si se quiere una estabilidad dentro del modelo lo correcto es tomar la misma cantidad de valores aleatorios de los demas Scores. \n",
        "###Se conforma un dataframe con la misma cantidad de datos para cada uno de los Scores con una cantidad de 148715 filas. \n",
        "\n",
        "###Tambien se puede ver que la mayor cantidad de datos son con Score '5'"
      ]
    },
    {
      "cell_type": "code",
      "execution_count": null,
      "metadata": {
        "colab": {
          "base_uri": "https://localhost:8080/",
          "height": 383
        },
        "id": "SeSkF0aozxlL",
        "outputId": "6b1c466d-a1b4-4d51-efb5-3a5cb19a6e42"
      },
      "outputs": [
        {
          "name": "stdout",
          "output_type": "stream",
          "text": [
            "3    29743\n",
            "1    29743\n",
            "4    29743\n",
            "2    29743\n",
            "5    29743\n",
            "Name: Score, dtype: int64\n"
          ]
        },
        {
          "data": {
            "image/png": "[encoded data removed]",
            "text/plain": [
              "<Figure size 432x288 with 1 Axes>"
            ]
          },
          "metadata": {},
          "output_type": "display_data"
        }
      ],
      "source": [
        "sb.countplot(x='Score', data=df_aleatorio)\n",
        "print(df_aleatorio['Score'].value_counts())\n"
      ]
    },
    {
      "cell_type": "markdown",
      "metadata": {
        "id": "NoawxyQJ49I-"
      },
      "source": [
        "## **Para el tratamiento del texto se debe Tokenizar, Eliminar palabras comunes,lemmatizar, quitar puntuacion**"
      ]
    },
    {
      "cell_type": "code",
      "execution_count": null,
      "metadata": {
        "colab": {
          "base_uri": "https://localhost:8080/"
        },
        "id": "x1_cwr8bkA7x",
        "outputId": "f3930216-a6a6-4409-96a8-29cfa87c1a16"
      },
      "outputs": [
        {
          "name": "stdout",
          "output_type": "stream",
          "text": [
            "[nltk_data] Downloading package stopwords to /root/nltk_data...\n",
            "[nltk_data]   Unzipping corpora/stopwords.zip.\n",
            "[nltk_data] Downloading package wordnet to /root/nltk_data...\n",
            "[nltk_data]   Unzipping corpora/wordnet.zip.\n"
          ]
        },
        {
          "data": {
            "text/plain": [
              "True"
            ]
          },
          "execution_count": 14,
          "metadata": {},
          "output_type": "execute_result"
        }
      ],
      "source": [
        "import nltk\n",
        "nltk.download('stopwords')\n",
        "nltk.download('wordnet')"
      ]
    },
    {
      "cell_type": "markdown",
      "metadata": {
        "id": "GWVSTErLSgA7"
      },
      "source": [
        "## **Se utiliza libreria NLTK y se traen las STOPWORDS o \"palabras comunes\"**"
      ]
    },
    {
      "cell_type": "code",
      "execution_count": null,
      "metadata": {
        "colab": {
          "base_uri": "https://localhost:8080/"
        },
        "id": "e4PW_iBIwjoh",
        "outputId": "b0a00407-83d3-4cf0-a4af-57fd6796364b"
      },
      "outputs": [
        {
          "name": "stdout",
          "output_type": "stream",
          "text": [
            "181\n"
          ]
        }
      ],
      "source": [
        "from nltk.corpus import stopwords\n",
        "import string\n",
        "from nltk.stem import WordNetLemmatizer\n",
        "lemmatizer = WordNetLemmatizer()\n",
        "\n",
        "punctuation = set(string.punctuation)\n",
        "all_stopwords = stopwords.words('english')\n",
        "all_stopwords.append('im')\n",
        "all_stopwords.append('ive')\n",
        "print(len(all_stopwords))"
      ]
    },
    {
      "cell_type": "markdown",
      "metadata": {
        "id": "MpdNGv_xpx1_"
      },
      "source": [
        "### Definicion de funciones:\n",
        "tokenizacion: separar palabras dentro de un texto y ademas elimina puntuacion\n",
        "\n",
        "Stopwords: Eliminar palabras comunes dentro del texto\n",
        "\n",
        "Lemmatizar: Eliminar o correguir palabras en sus terminaciones"
      ]
    },
    {
      "cell_type": "code",
      "execution_count": null,
      "metadata": {
        "id": "YimHtMzGIMZR"
      },
      "outputs": [],
      "source": [
        "def Stopwords(sentencia):\n",
        "  filtered_word = []\n",
        "  for word in sentencia:\n",
        "    if word not in all_stopwords:\n",
        "      filtered_word.append(word)\n",
        "  return filtered_word\n",
        "\n",
        "def tokenizacion(sentencia):\n",
        "    tokens = []\n",
        "    for token in sentencia.split():\n",
        "        new_token = []\n",
        "        for character in token:\n",
        "            if character not in punctuation:\n",
        "                new_token.append(character.lower())\n",
        "        if new_token:\n",
        "            tokens.append(\"\".join(new_token))\n",
        "    salidaok=Stopwords(tokens)\n",
        "    return salidaok\n",
        "\n",
        "def lematizar(sentencia):\n",
        "  lema_word=[]\n",
        "  for word in sentencia:\n",
        "    palabra=lemmatizer.lemmatize(word)\n",
        "    lema_word.append(palabra)\n",
        "  return lema_word"
      ]
    },
    {
      "cell_type": "code",
      "execution_count": null,
      "metadata": {
        "colab": {
          "base_uri": "https://localhost:8080/"
        },
        "id": "2y7KcgnUSJmj",
        "outputId": "71ae1115-2035-417f-9e21-b38c476f38e5"
      },
      "outputs": [
        {
          "name": "stdout",
          "output_type": "stream",
          "text": [
            "0         [husband, become, critic, gf, granola, bars, d...\n",
            "1         [ogs, would, touch, dog, food, eat, ceasers, g...\n",
            "2         [unlike, hot, chocolates, one, obnoxious, tast...\n",
            "3         [got, 4, 10packs, 6, managers, special, produc...\n",
            "4         [blend, bitter, taste, earthly, like, drinking...\n",
            "                                ...                        \n",
            "148710    [product, arrived, stale, neither, amazon, ven...\n",
            "148711    [fda, made, illegal, sell, raw, almonds, fall,...\n",
            "148712    [new, honey, pineapple, mango, awful, worst, t...\n",
            "148713    [little, treats, small, enough, mouse, pomeran...\n",
            "148714    [saw, chips, 9, months, ago, bought, bbq, gian...\n",
            "Name: Text, Length: 148715, dtype: object\n"
          ]
        }
      ],
      "source": [
        "data = df_aleatorio.head(len(df_aleatorio))[\"Text\"].apply(tokenizacion)\n",
        "print(data)"
      ]
    },
    {
      "cell_type": "code",
      "execution_count": null,
      "metadata": {
        "id": "RCHv19PCKn98"
      },
      "outputs": [],
      "source": [
        "data = data.apply(Stopwords)"
      ]
    },
    {
      "cell_type": "code",
      "execution_count": null,
      "metadata": {
        "colab": {
          "base_uri": "https://localhost:8080/"
        },
        "id": "YAC37LuumScg",
        "outputId": "8a41021d-3f18-4681-b079-7e99d9a165d6"
      },
      "outputs": [
        {
          "name": "stdout",
          "output_type": "stream",
          "text": [
            "['trying']\n"
          ]
        }
      ],
      "source": [
        "print(lematizar([\"trying\"]))"
      ]
    },
    {
      "cell_type": "markdown",
      "metadata": {
        "id": "fHYn93GvqaXy"
      },
      "source": [
        "##**Aplicar las funciones al dataframe**"
      ]
    },
    {
      "cell_type": "code",
      "execution_count": null,
      "metadata": {
        "colab": {
          "base_uri": "https://localhost:8080/"
        },
        "id": "v4xsW6OIeP_O",
        "outputId": "8942fd8b-6c8b-463c-fb5d-1d312f1e3995"
      },
      "outputs": [
        {
          "name": "stdout",
          "output_type": "stream",
          "text": [
            "0         [husband, become, critic, gf, granola, bar, de...\n",
            "1         [ogs, would, touch, dog, food, eat, ceasers, g...\n",
            "2         [unlike, hot, chocolate, one, obnoxious, taste...\n",
            "3         [got, 4, 10packs, 6, manager, special, product...\n",
            "4         [blend, bitter, taste, earthly, like, drinking...\n",
            "                                ...                        \n",
            "148710    [product, arrived, stale, neither, amazon, ven...\n",
            "148711    [fda, made, illegal, sell, raw, almond, fall, ...\n",
            "148712    [new, honey, pineapple, mango, awful, worst, t...\n",
            "148713    [little, treat, small, enough, mouse, pomerani...\n",
            "148714    [saw, chip, 9, month, ago, bought, bbq, giant,...\n",
            "Name: Text, Length: 148715, dtype: object\n"
          ]
        }
      ],
      "source": [
        "data = data.apply(lematizar)\n",
        "print(data)"
      ]
    },
    {
      "cell_type": "code",
      "execution_count": null,
      "metadata": {
        "id": "H8wwHS7KruG6"
      },
      "outputs": [],
      "source": [
        "df_aleatorio = df_aleatorio.assign(tokenizeText = data)"
      ]
    },
    {
      "cell_type": "code",
      "execution_count": null,
      "metadata": {
        "colab": {
          "base_uri": "https://localhost:8080/",
          "height": 832
        },
        "id": "ykPG7rBgwGOR",
        "outputId": "36674260-af22-4a63-fac9-401daddc08ef"
      },
      "outputs": [
        {
          "data": {
            "text/html": [
              "\n",
              "  <div id=\"df-9b11dff9-8f32-4ac1-aae6-a67fe366ed24\">\n",
              "    <div class=\"colab-df-container\">\n",
              "      <div>\n",
              "<style scoped>\n",
              "    .dataframe tbody tr th:only-of-type {\n",
              "        vertical-align: middle;\n",
              "    }\n",
              "\n",
              "    .dataframe tbody tr th {\n",
              "        vertical-align: top;\n",
              "    }\n",
              "\n",
              "    .dataframe thead th {\n",
              "        text-align: right;\n",
              "    }\n",
              "</style>\n",
              "<table border=\"1\" class=\"dataframe\">\n",
              "  <thead>\n",
              "    <tr style=\"text-align: right;\">\n",
              "      <th></th>\n",
              "      <th>Id</th>\n",
              "      <th>ProductId</th>\n",
              "      <th>UserId</th>\n",
              "      <th>ProfileName</th>\n",
              "      <th>HelpfulnessNumerator</th>\n",
              "      <th>HelpfulnessDenominator</th>\n",
              "      <th>Score</th>\n",
              "      <th>Time</th>\n",
              "      <th>Summary</th>\n",
              "      <th>Text</th>\n",
              "      <th>tokenizeText</th>\n",
              "    </tr>\n",
              "  </thead>\n",
              "  <tbody>\n",
              "    <tr>\n",
              "      <th>0</th>\n",
              "      <td>160089</td>\n",
              "      <td>B000HDJXH6</td>\n",
              "      <td>A32VYURK3JH1O5</td>\n",
              "      <td>Mary Alice Mairet</td>\n",
              "      <td>0</td>\n",
              "      <td>1</td>\n",
              "      <td>3</td>\n",
              "      <td>1260921600</td>\n",
              "      <td>Just OK</td>\n",
              "      <td>My husband has become a critic of GF granola b...</td>\n",
              "      <td>[husband, become, critic, gf, granola, bar, de...</td>\n",
              "    </tr>\n",
              "    <tr>\n",
              "      <th>1</th>\n",
              "      <td>246382</td>\n",
              "      <td>B0029NN03K</td>\n",
              "      <td>A2CTJ8LCZ2MJV8</td>\n",
              "      <td>Tim Taylor</td>\n",
              "      <td>0</td>\n",
              "      <td>0</td>\n",
              "      <td>1</td>\n",
              "      <td>1339113600</td>\n",
              "      <td>og food</td>\n",
              "      <td>ogs would not touch this dog food.. They will ...</td>\n",
              "      <td>[ogs, would, touch, dog, food, eat, ceasers, g...</td>\n",
              "    </tr>\n",
              "    <tr>\n",
              "      <th>2</th>\n",
              "      <td>243102</td>\n",
              "      <td>B005K4Q4KG</td>\n",
              "      <td>A35MLHJG9ZRWL7</td>\n",
              "      <td>Roxie \"Roxie Muzic\"</td>\n",
              "      <td>2</td>\n",
              "      <td>2</td>\n",
              "      <td>4</td>\n",
              "      <td>1323129600</td>\n",
              "      <td>If You Are Wondering???</td>\n",
              "      <td>Unlike the other hot chocolate(s), this one do...</td>\n",
              "      <td>[unlike, hot, chocolate, one, obnoxious, taste...</td>\n",
              "    </tr>\n",
              "    <tr>\n",
              "      <th>3</th>\n",
              "      <td>534521</td>\n",
              "      <td>B001EPQEPU</td>\n",
              "      <td>A29AWXQ9WWSVZX</td>\n",
              "      <td>granolaking \"Lord of the Granolas\"</td>\n",
              "      <td>1</td>\n",
              "      <td>3</td>\n",
              "      <td>1</td>\n",
              "      <td>1271548800</td>\n",
              "      <td>Sounds interesting, but avoid.</td>\n",
              "      <td>Got 4 10-packs of these for $6 during a manage...</td>\n",
              "      <td>[got, 4, 10packs, 6, manager, special, product...</td>\n",
              "    </tr>\n",
              "    <tr>\n",
              "      <th>4</th>\n",
              "      <td>107479</td>\n",
              "      <td>B007TJGY4Q</td>\n",
              "      <td>AQ6XS10RR7CE0</td>\n",
              "      <td>Mike P. \"MAPRX\"</td>\n",
              "      <td>0</td>\n",
              "      <td>0</td>\n",
              "      <td>2</td>\n",
              "      <td>1216166400</td>\n",
              "      <td>Bitter Taste</td>\n",
              "      <td>This blend is bitter and does taste earthly  l...</td>\n",
              "      <td>[blend, bitter, taste, earthly, like, drinking...</td>\n",
              "    </tr>\n",
              "    <tr>\n",
              "      <th>...</th>\n",
              "      <td>...</td>\n",
              "      <td>...</td>\n",
              "      <td>...</td>\n",
              "      <td>...</td>\n",
              "      <td>...</td>\n",
              "      <td>...</td>\n",
              "      <td>...</td>\n",
              "      <td>...</td>\n",
              "      <td>...</td>\n",
              "      <td>...</td>\n",
              "      <td>...</td>\n",
              "    </tr>\n",
              "    <tr>\n",
              "      <th>148700</th>\n",
              "      <td>568159</td>\n",
              "      <td>B001SB24P4</td>\n",
              "      <td>A3HT7Z4EKASS82</td>\n",
              "      <td>RM</td>\n",
              "      <td>0</td>\n",
              "      <td>0</td>\n",
              "      <td>5</td>\n",
              "      <td>1341100800</td>\n",
              "      <td>Garlic Salt move over...this is way better</td>\n",
              "      <td>WOW.....it's so fresh tasting.&lt;br /&gt;&lt;br /&gt;If y...</td>\n",
              "      <td>[wowits, fresh, tastingbr, br, like, garlicthi...</td>\n",
              "    </tr>\n",
              "    <tr>\n",
              "      <th>148701</th>\n",
              "      <td>314290</td>\n",
              "      <td>B008MUJAYC</td>\n",
              "      <td>A2ITY3O2UPJLN8</td>\n",
              "      <td>J. Alec West</td>\n",
              "      <td>0</td>\n",
              "      <td>0</td>\n",
              "      <td>2</td>\n",
              "      <td>1344384000</td>\n",
              "      <td>How many complaints does it take?</td>\n",
              "      <td>I just sent a complaint to Amazon because, lik...</td>\n",
              "      <td>[sent, complaint, amazon, like, others, get, i...</td>\n",
              "    </tr>\n",
              "    <tr>\n",
              "      <th>148702</th>\n",
              "      <td>518127</td>\n",
              "      <td>B003V8Y7DE</td>\n",
              "      <td>A3SX8T79S8PPQR</td>\n",
              "      <td>chucklelite</td>\n",
              "      <td>0</td>\n",
              "      <td>0</td>\n",
              "      <td>5</td>\n",
              "      <td>1330128000</td>\n",
              "      <td>Simply delicious</td>\n",
              "      <td>This is a great snack with the perfect amount ...</td>\n",
              "      <td>[great, snack, perfect, amount, salt, dont, fe...</td>\n",
              "    </tr>\n",
              "    <tr>\n",
              "      <th>148703</th>\n",
              "      <td>75229</td>\n",
              "      <td>B0026RQTGE</td>\n",
              "      <td>A3BI6G5Y70AF2I</td>\n",
              "      <td>Jon Paul Nichol</td>\n",
              "      <td>2</td>\n",
              "      <td>2</td>\n",
              "      <td>4</td>\n",
              "      <td>1297814400</td>\n",
              "      <td>Hate to pay the price</td>\n",
              "      <td>This appeared to be the best price around, but...</td>\n",
              "      <td>[appeared, best, price, around, still, dont, l...</td>\n",
              "    </tr>\n",
              "    <tr>\n",
              "      <th>148704</th>\n",
              "      <td>413466</td>\n",
              "      <td>B0017M5V9A</td>\n",
              "      <td>A3Q5ZXWKJGMEK</td>\n",
              "      <td>Anonymous</td>\n",
              "      <td>4</td>\n",
              "      <td>4</td>\n",
              "      <td>4</td>\n",
              "      <td>1325548800</td>\n",
              "      <td>Safer versus Pro-Pest</td>\n",
              "      <td>Both this product and Pro-Pest Clothes Moth Re...</td>\n",
              "      <td>[product, propest, clothes, moth, readytouse, ...</td>\n",
              "    </tr>\n",
              "  </tbody>\n",
              "</table>\n",
              "<p>148705 rows × 11 columns</p>\n",
              "</div>\n",
              "      <button class=\"colab-df-convert\" onclick=\"convertToInteractive('df-9b11dff9-8f32-4ac1-aae6-a67fe366ed24')\"\n",
              "              title=\"Convert this dataframe to an interactive table.\"\n",
              "              style=\"display:none;\">\n",
              "        \n",
              "  <svg xmlns=\"http://www.w3.org/2000/svg\" height=\"24px\"viewBox=\"0 0 24 24\"\n",
              "       width=\"24px\">\n",
              "    <path d=\"M0 0h24v24H0V0z\" fill=\"none\"/>\n",
              "    <path d=\"M18.56 5.44l.94 2.06.94-2.06 2.06-.94-2.06-.94-.94-2.06-.94 2.06-2.06.94zm-11 1L8.5 8.5l.94-2.06 2.06-.94-2.06-.94L8.5 2.5l-.94 2.06-2.06.94zm10 10l.94 2.06.94-2.06 2.06-.94-2.06-.94-.94-2.06-.94 2.06-2.06.94z\"/><path d=\"M17.41 7.96l-1.37-1.37c-.4-.4-.92-.59-1.43-.59-.52 0-1.04.2-1.43.59L10.3 9.45l-7.72 7.72c-.78.78-.78 2.05 0 2.83L4 21.41c.39.39.9.59 1.41.59.51 0 1.02-.2 1.41-.59l7.78-7.78 2.81-2.81c.8-.78.8-2.07 0-2.86zM5.41 20L4 18.59l7.72-7.72 1.47 1.35L5.41 20z\"/>\n",
              "  </svg>\n",
              "      </button>\n",
              "      \n",
              "  <style>\n",
              "    .colab-df-container {\n",
              "      display:flex;\n",
              "      flex-wrap:wrap;\n",
              "      gap: 12px;\n",
              "    }\n",
              "\n",
              "    .colab-df-convert {\n",
              "      background-color: #E8F0FE;\n",
              "      border: none;\n",
              "      border-radius: 50%;\n",
              "      cursor: pointer;\n",
              "      display: none;\n",
              "      fill: #1967D2;\n",
              "      height: 32px;\n",
              "      padding: 0 0 0 0;\n",
              "      width: 32px;\n",
              "    }\n",
              "\n",
              "    .colab-df-convert:hover {\n",
              "      background-color: #E2EBFA;\n",
              "      box-shadow: 0px 1px 2px rgba(60, 64, 67, 0.3), 0px 1px 3px 1px rgba(60, 64, 67, 0.15);\n",
              "      fill: #174EA6;\n",
              "    }\n",
              "\n",
              "    [theme=dark] .colab-df-convert {\n",
              "      background-color: #3B4455;\n",
              "      fill: #D2E3FC;\n",
              "    }\n",
              "\n",
              "    [theme=dark] .colab-df-convert:hover {\n",
              "      background-color: #434B5C;\n",
              "      box-shadow: 0px 1px 3px 1px rgba(0, 0, 0, 0.15);\n",
              "      filter: drop-shadow(0px 1px 2px rgba(0, 0, 0, 0.3));\n",
              "      fill: #FFFFFF;\n",
              "    }\n",
              "  </style>\n",
              "\n",
              "      <script>\n",
              "        const buttonEl =\n",
              "          document.querySelector('#df-9b11dff9-8f32-4ac1-aae6-a67fe366ed24 button.colab-df-convert');\n",
              "        buttonEl.style.display =\n",
              "          google.colab.kernel.accessAllowed ? 'block' : 'none';\n",
              "\n",
              "        async function convertToInteractive(key) {\n",
              "          const element = document.querySelector('#df-9b11dff9-8f32-4ac1-aae6-a67fe366ed24');\n",
              "          const dataTable =\n",
              "            await google.colab.kernel.invokeFunction('convertToInteractive',\n",
              "                                                     [key], {});\n",
              "          if (!dataTable) return;\n",
              "\n",
              "          const docLinkHtml = 'Like what you see? Visit the ' +\n",
              "            '<a target=\"_blank\" href=https://colab.research.google.com/notebooks/data_table.ipynb>data table notebook</a>'\n",
              "            + ' to learn more about interactive tables.';\n",
              "          element.innerHTML = '';\n",
              "          dataTable['output_type'] = 'display_data';\n",
              "          await google.colab.output.renderOutput(dataTable, element);\n",
              "          const docLink = document.createElement('div');\n",
              "          docLink.innerHTML = docLinkHtml;\n",
              "          element.appendChild(docLink);\n",
              "        }\n",
              "      </script>\n",
              "    </div>\n",
              "  </div>\n",
              "  "
            ],
            "text/plain": [
              "            Id   ProductId          UserId  \\\n",
              "0       160089  B000HDJXH6  A32VYURK3JH1O5   \n",
              "1       246382  B0029NN03K  A2CTJ8LCZ2MJV8   \n",
              "2       243102  B005K4Q4KG  A35MLHJG9ZRWL7   \n",
              "3       534521  B001EPQEPU  A29AWXQ9WWSVZX   \n",
              "4       107479  B007TJGY4Q   AQ6XS10RR7CE0   \n",
              "...        ...         ...             ...   \n",
              "148700  568159  B001SB24P4  A3HT7Z4EKASS82   \n",
              "148701  314290  B008MUJAYC  A2ITY3O2UPJLN8   \n",
              "148702  518127  B003V8Y7DE  A3SX8T79S8PPQR   \n",
              "148703   75229  B0026RQTGE  A3BI6G5Y70AF2I   \n",
              "148704  413466  B0017M5V9A   A3Q5ZXWKJGMEK   \n",
              "\n",
              "                               ProfileName  HelpfulnessNumerator  \\\n",
              "0                        Mary Alice Mairet                     0   \n",
              "1                               Tim Taylor                     0   \n",
              "2                      Roxie \"Roxie Muzic\"                     2   \n",
              "3       granolaking \"Lord of the Granolas\"                     1   \n",
              "4                          Mike P. \"MAPRX\"                     0   \n",
              "...                                    ...                   ...   \n",
              "148700                                  RM                     0   \n",
              "148701                        J. Alec West                     0   \n",
              "148702                         chucklelite                     0   \n",
              "148703                     Jon Paul Nichol                     2   \n",
              "148704                           Anonymous                     4   \n",
              "\n",
              "        HelpfulnessDenominator  Score        Time  \\\n",
              "0                            1      3  1260921600   \n",
              "1                            0      1  1339113600   \n",
              "2                            2      4  1323129600   \n",
              "3                            3      1  1271548800   \n",
              "4                            0      2  1216166400   \n",
              "...                        ...    ...         ...   \n",
              "148700                       0      5  1341100800   \n",
              "148701                       0      2  1344384000   \n",
              "148702                       0      5  1330128000   \n",
              "148703                       2      4  1297814400   \n",
              "148704                       4      4  1325548800   \n",
              "\n",
              "                                           Summary  \\\n",
              "0                                          Just OK   \n",
              "1                                          og food   \n",
              "2                          If You Are Wondering???   \n",
              "3                   Sounds interesting, but avoid.   \n",
              "4                                     Bitter Taste   \n",
              "...                                            ...   \n",
              "148700  Garlic Salt move over...this is way better   \n",
              "148701           How many complaints does it take?   \n",
              "148702                            Simply delicious   \n",
              "148703                       Hate to pay the price   \n",
              "148704                       Safer versus Pro-Pest   \n",
              "\n",
              "                                                     Text  \\\n",
              "0       My husband has become a critic of GF granola b...   \n",
              "1       ogs would not touch this dog food.. They will ...   \n",
              "2       Unlike the other hot chocolate(s), this one do...   \n",
              "3       Got 4 10-packs of these for $6 during a manage...   \n",
              "4       This blend is bitter and does taste earthly  l...   \n",
              "...                                                   ...   \n",
              "148700  WOW.....it's so fresh tasting.<br /><br />If y...   \n",
              "148701  I just sent a complaint to Amazon because, lik...   \n",
              "148702  This is a great snack with the perfect amount ...   \n",
              "148703  This appeared to be the best price around, but...   \n",
              "148704  Both this product and Pro-Pest Clothes Moth Re...   \n",
              "\n",
              "                                             tokenizeText  \n",
              "0       [husband, become, critic, gf, granola, bar, de...  \n",
              "1       [ogs, would, touch, dog, food, eat, ceasers, g...  \n",
              "2       [unlike, hot, chocolate, one, obnoxious, taste...  \n",
              "3       [got, 4, 10packs, 6, manager, special, product...  \n",
              "4       [blend, bitter, taste, earthly, like, drinking...  \n",
              "...                                                   ...  \n",
              "148700  [wowits, fresh, tastingbr, br, like, garlicthi...  \n",
              "148701  [sent, complaint, amazon, like, others, get, i...  \n",
              "148702  [great, snack, perfect, amount, salt, dont, fe...  \n",
              "148703  [appeared, best, price, around, still, dont, l...  \n",
              "148704  [product, propest, clothes, moth, readytouse, ...  \n",
              "\n",
              "[148705 rows x 11 columns]"
            ]
          },
          "execution_count": 22,
          "metadata": {},
          "output_type": "execute_result"
        }
      ],
      "source": [
        "df_aleatorio.head(-10)"
      ]
    },
    {
      "cell_type": "code",
      "execution_count": null,
      "metadata": {
        "id": "3NngWW3J5ak5"
      },
      "outputs": [],
      "source": [
        "df_aleatorio = df_aleatorio.assign(textNum = tokenizetext)"
      ]
    },
    {
      "cell_type": "code",
      "execution_count": null,
      "metadata": {
        "colab": {
          "base_uri": "https://localhost:8080/",
          "height": 430
        },
        "id": "OXyIwx8c6HTp",
        "outputId": "81617d5a-24f0-4861-bf32-7020dd8f9fba"
      },
      "outputs": [
        {
          "data": {
            "text/html": [
              "\n",
              "  <div id=\"df-65967586-d746-4b42-85b5-431073677667\">\n",
              "    <div class=\"colab-df-container\">\n",
              "      <div>\n",
              "<style scoped>\n",
              "    .dataframe tbody tr th:only-of-type {\n",
              "        vertical-align: middle;\n",
              "    }\n",
              "\n",
              "    .dataframe tbody tr th {\n",
              "        vertical-align: top;\n",
              "    }\n",
              "\n",
              "    .dataframe thead th {\n",
              "        text-align: right;\n",
              "    }\n",
              "</style>\n",
              "<table border=\"1\" class=\"dataframe\">\n",
              "  <thead>\n",
              "    <tr style=\"text-align: right;\">\n",
              "      <th></th>\n",
              "      <th>Id</th>\n",
              "      <th>ProductId</th>\n",
              "      <th>UserId</th>\n",
              "      <th>ProfileName</th>\n",
              "      <th>HelpfulnessNumerator</th>\n",
              "      <th>HelpfulnessDenominator</th>\n",
              "      <th>Score</th>\n",
              "      <th>Time</th>\n",
              "      <th>Summary</th>\n",
              "      <th>Text</th>\n",
              "      <th>tokenizeText</th>\n",
              "      <th>textNum</th>\n",
              "    </tr>\n",
              "  </thead>\n",
              "  <tbody>\n",
              "    <tr>\n",
              "      <th>0</th>\n",
              "      <td>160089</td>\n",
              "      <td>B000HDJXH6</td>\n",
              "      <td>A32VYURK3JH1O5</td>\n",
              "      <td>Mary Alice Mairet</td>\n",
              "      <td>0</td>\n",
              "      <td>1</td>\n",
              "      <td>3</td>\n",
              "      <td>1260921600</td>\n",
              "      <td>Just OK</td>\n",
              "      <td>My husband has become a critic of GF granola b...</td>\n",
              "      <td>[husband, become, critic, gf, granola, bar, de...</td>\n",
              "      <td>[1101000 1110101 1110011 1100010 1100001 11011...</td>\n",
              "    </tr>\n",
              "    <tr>\n",
              "      <th>1</th>\n",
              "      <td>246382</td>\n",
              "      <td>B0029NN03K</td>\n",
              "      <td>A2CTJ8LCZ2MJV8</td>\n",
              "      <td>Tim Taylor</td>\n",
              "      <td>0</td>\n",
              "      <td>0</td>\n",
              "      <td>1</td>\n",
              "      <td>1339113600</td>\n",
              "      <td>og food</td>\n",
              "      <td>ogs would not touch this dog food.. They will ...</td>\n",
              "      <td>[ogs, would, touch, dog, food, eat, ceasers, g...</td>\n",
              "      <td>[1101111 1100111 1110011, 1110111 1101111 1110...</td>\n",
              "    </tr>\n",
              "    <tr>\n",
              "      <th>2</th>\n",
              "      <td>243102</td>\n",
              "      <td>B005K4Q4KG</td>\n",
              "      <td>A35MLHJG9ZRWL7</td>\n",
              "      <td>Roxie \"Roxie Muzic\"</td>\n",
              "      <td>2</td>\n",
              "      <td>2</td>\n",
              "      <td>4</td>\n",
              "      <td>1323129600</td>\n",
              "      <td>If You Are Wondering???</td>\n",
              "      <td>Unlike the other hot chocolate(s), this one do...</td>\n",
              "      <td>[unlike, hot, chocolate, one, obnoxious, taste...</td>\n",
              "      <td>[1110101 1101110 1101100 1101001 1101011 11001...</td>\n",
              "    </tr>\n",
              "  </tbody>\n",
              "</table>\n",
              "</div>\n",
              "      <button class=\"colab-df-convert\" onclick=\"convertToInteractive('df-65967586-d746-4b42-85b5-431073677667')\"\n",
              "              title=\"Convert this dataframe to an interactive table.\"\n",
              "              style=\"display:none;\">\n",
              "        \n",
              "  <svg xmlns=\"http://www.w3.org/2000/svg\" height=\"24px\"viewBox=\"0 0 24 24\"\n",
              "       width=\"24px\">\n",
              "    <path d=\"M0 0h24v24H0V0z\" fill=\"none\"/>\n",
              "    <path d=\"M18.56 5.44l.94 2.06.94-2.06 2.06-.94-2.06-.94-.94-2.06-.94 2.06-2.06.94zm-11 1L8.5 8.5l.94-2.06 2.06-.94-2.06-.94L8.5 2.5l-.94 2.06-2.06.94zm10 10l.94 2.06.94-2.06 2.06-.94-2.06-.94-.94-2.06-.94 2.06-2.06.94z\"/><path d=\"M17.41 7.96l-1.37-1.37c-.4-.4-.92-.59-1.43-.59-.52 0-1.04.2-1.43.59L10.3 9.45l-7.72 7.72c-.78.78-.78 2.05 0 2.83L4 21.41c.39.39.9.59 1.41.59.51 0 1.02-.2 1.41-.59l7.78-7.78 2.81-2.81c.8-.78.8-2.07 0-2.86zM5.41 20L4 18.59l7.72-7.72 1.47 1.35L5.41 20z\"/>\n",
              "  </svg>\n",
              "      </button>\n",
              "      \n",
              "  <style>\n",
              "    .colab-df-container {\n",
              "      display:flex;\n",
              "      flex-wrap:wrap;\n",
              "      gap: 12px;\n",
              "    }\n",
              "\n",
              "    .colab-df-convert {\n",
              "      background-color: #E8F0FE;\n",
              "      border: none;\n",
              "      border-radius: 50%;\n",
              "      cursor: pointer;\n",
              "      display: none;\n",
              "      fill: #1967D2;\n",
              "      height: 32px;\n",
              "      padding: 0 0 0 0;\n",
              "      width: 32px;\n",
              "    }\n",
              "\n",
              "    .colab-df-convert:hover {\n",
              "      background-color: #E2EBFA;\n",
              "      box-shadow: 0px 1px 2px rgba(60, 64, 67, 0.3), 0px 1px 3px 1px rgba(60, 64, 67, 0.15);\n",
              "      fill: #174EA6;\n",
              "    }\n",
              "\n",
              "    [theme=dark] .colab-df-convert {\n",
              "      background-color: #3B4455;\n",
              "      fill: #D2E3FC;\n",
              "    }\n",
              "\n",
              "    [theme=dark] .colab-df-convert:hover {\n",
              "      background-color: #434B5C;\n",
              "      box-shadow: 0px 1px 3px 1px rgba(0, 0, 0, 0.15);\n",
              "      filter: drop-shadow(0px 1px 2px rgba(0, 0, 0, 0.3));\n",
              "      fill: #FFFFFF;\n",
              "    }\n",
              "  </style>\n",
              "\n",
              "      <script>\n",
              "        const buttonEl =\n",
              "          document.querySelector('#df-65967586-d746-4b42-85b5-431073677667 button.colab-df-convert');\n",
              "        buttonEl.style.display =\n",
              "          google.colab.kernel.accessAllowed ? 'block' : 'none';\n",
              "\n",
              "        async function convertToInteractive(key) {\n",
              "          const element = document.querySelector('#df-65967586-d746-4b42-85b5-431073677667');\n",
              "          const dataTable =\n",
              "            await google.colab.kernel.invokeFunction('convertToInteractive',\n",
              "                                                     [key], {});\n",
              "          if (!dataTable) return;\n",
              "\n",
              "          const docLinkHtml = 'Like what you see? Visit the ' +\n",
              "            '<a target=\"_blank\" href=https://colab.research.google.com/notebooks/data_table.ipynb>data table notebook</a>'\n",
              "            + ' to learn more about interactive tables.';\n",
              "          element.innerHTML = '';\n",
              "          dataTable['output_type'] = 'display_data';\n",
              "          await google.colab.output.renderOutput(dataTable, element);\n",
              "          const docLink = document.createElement('div');\n",
              "          docLink.innerHTML = docLinkHtml;\n",
              "          element.appendChild(docLink);\n",
              "        }\n",
              "      </script>\n",
              "    </div>\n",
              "  </div>\n",
              "  "
            ],
            "text/plain": [
              "       Id   ProductId          UserId          ProfileName  \\\n",
              "0  160089  B000HDJXH6  A32VYURK3JH1O5    Mary Alice Mairet   \n",
              "1  246382  B0029NN03K  A2CTJ8LCZ2MJV8           Tim Taylor   \n",
              "2  243102  B005K4Q4KG  A35MLHJG9ZRWL7  Roxie \"Roxie Muzic\"   \n",
              "\n",
              "   HelpfulnessNumerator  HelpfulnessDenominator  Score        Time  \\\n",
              "0                     0                       1      3  1260921600   \n",
              "1                     0                       0      1  1339113600   \n",
              "2                     2                       2      4  1323129600   \n",
              "\n",
              "                   Summary                                               Text  \\\n",
              "0                  Just OK  My husband has become a critic of GF granola b...   \n",
              "1                  og food  ogs would not touch this dog food.. They will ...   \n",
              "2  If You Are Wondering???  Unlike the other hot chocolate(s), this one do...   \n",
              "\n",
              "                                        tokenizeText  \\\n",
              "0  [husband, become, critic, gf, granola, bar, de...   \n",
              "1  [ogs, would, touch, dog, food, eat, ceasers, g...   \n",
              "2  [unlike, hot, chocolate, one, obnoxious, taste...   \n",
              "\n",
              "                                             textNum  \n",
              "0  [1101000 1110101 1110011 1100010 1100001 11011...  \n",
              "1  [1101111 1100111 1110011, 1110111 1101111 1110...  \n",
              "2  [1110101 1101110 1101100 1101001 1101011 11001...  "
            ]
          },
          "execution_count": 25,
          "metadata": {},
          "output_type": "execute_result"
        }
      ],
      "source": [
        "df_aleatorio.head(3)"
      ]
    },
    {
      "cell_type": "code",
      "execution_count": null,
      "metadata": {
        "colab": {
          "background_save": true,
          "base_uri": "https://localhost:8080/",
          "height": 217
        },
        "id": "SWVJT1ARoS3N",
        "outputId": "d018016e-b8a3-4ebc-aec1-3c106a71fa11"
      },
      "outputs": [
        {
          "name": "stdout",
          "output_type": "stream",
          "text": [
            "Training examples: 111536, testing examples 37179\n"
          ]
        }
      ],
      "source": [
        "from sklearn.model_selection import train_test_split\n",
        "train_text,test_text, train_labels, test_labels = train_test_split(df_aleatorio[\"Text\"], df_aleatorio[\"Score\"], stratify=df_aleatorio[\"Score\"])\n",
        "print(f\"Training examples: {len(train_text)}, testing examples {len(test_text)}\")"
      ]
    },
    {
      "cell_type": "code",
      "execution_count": null,
      "metadata": {
        "colab": {
          "base_uri": "https://localhost:8080/"
        },
        "id": "INYxMSSat8Vk",
        "outputId": "1e7f50d1-eba2-43f9-cee2-587f0d5545b6"
      },
      "outputs": [
        {
          "data": {
            "text/plain": [
              "(111536, 101564)"
            ]
          },
          "execution_count": 40,
          "metadata": {},
          "output_type": "execute_result"
        }
      ],
      "source": [
        "from sklearn.feature_extraction.text import CountVectorizer\n",
        "real_vectorizer = CountVectorizer(tokenizer = tokenizacion, binary=True)\n",
        "\n",
        "train_X = real_vectorizer.fit_transform(train_text)\n",
        "test_X = real_vectorizer.transform(test_text)\n",
        "\n",
        "train_X.shape"
      ]
    },
    {
      "cell_type": "code",
      "execution_count": null,
      "metadata": {
        "id": "8wJWsq5Spuwf"
      },
      "outputs": [],
      "source": [
        "\n",
        "from sklearn.svm import LinearSVC\n"
      ]
    },
    {
      "cell_type": "code",
      "execution_count": null,
      "metadata": {
        "id": "juBIJUc3pzIV",
        "colab": {
          "base_uri": "https://localhost:8080/"
        },
        "outputId": "fc54c22d-9083-42ff-8c2e-d721bbbd2d47"
      },
      "outputs": [
        {
          "output_type": "execute_result",
          "data": {
            "text/plain": [
              "LinearSVC(max_iter=10000)"
            ]
          },
          "metadata": {},
          "execution_count": 59
        }
      ],
      "source": [
        "classifier = LinearSVC(max_iter=10000)\n",
        "classifier.fit(train_X, train_labels)"
      ]
    },
    {
      "cell_type": "code",
      "execution_count": null,
      "metadata": {
        "id": "JgK8rm6W6zjv"
      },
      "outputs": [],
      "source": [
        "from sklearn.metrics import accuracy_score\n",
        "\n",
        "predicciones = classifier.predict(test_X)\n",
        "\n",
        "accuracy = accuracy_score(test_labels, predicciones)\n",
        "\n",
        "print(f\"Accuracy: {accuracy:.4%}\")"
      ]
    },
    {
      "cell_type": "code",
      "execution_count": null,
      "metadata": {
        "colab": {
          "base_uri": "https://localhost:8080/"
        },
        "id": "-T3rIOII7cRn",
        "outputId": "eb56bb5d-f3e1-443d-b2bd-8a3da3e5cfb3"
      },
      "outputs": [
        {
          "name": "stdout",
          "output_type": "stream",
          "text": [
            "[5 3 1]\n"
          ]
        }
      ],
      "source": [
        "muyBueno = \"this is fantastic\"\n",
        "neutro = \"I think that it can be bad\"\n",
        "muyMalo = \"this product was the worst\"\n",
        "\n",
        "examples = [\n",
        "    muyBueno,\n",
        "    neutro,\n",
        "    muyMalo\n",
        "]\n",
        "\n",
        "examples_X = real_vectorizer.transform(examples)\n",
        "predicciones = classifier.predict(examples_X)\n",
        "print(predicciones)"
      ]
    }
  ],
  "metadata": {
    "colab": {
      "collapsed_sections": [],
      "name": "Proyecto.ipynb",
      "provenance": []
    },
    "kernelspec": {
      "display_name": "Python 3",
      "name": "python3"
    },
    "language_info": {
      "name": "python"
    }
  },
  "nbformat": 4,
  "nbformat_minor": 0
}